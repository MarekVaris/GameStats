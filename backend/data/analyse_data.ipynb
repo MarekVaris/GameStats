{
 "cells": [
  {
   "cell_type": "code",
   "execution_count": 1,
   "id": "b0854ecf",
   "metadata": {},
   "outputs": [],
   "source": [
    "import pandas as pd\n"
   ]
  },
  {
   "cell_type": "code",
   "execution_count": 2,
   "id": "268ee8fc",
   "metadata": {},
   "outputs": [],
   "source": [
    "def delete_duplicates_and_save(input_file, inputs_duplicates, inputs_na):\n",
    "    df = pd.read_csv(input_file)\n",
    "    df_unique = df.drop_duplicates(subset=inputs_duplicates)\n",
    "    df_unique = df_unique.dropna(subset=inputs_na)\n",
    "    df_unique.to_csv(input_file, index=False)"
   ]
  },
  {
   "cell_type": "code",
   "execution_count": 3,
   "id": "5ce6d026",
   "metadata": {},
   "outputs": [],
   "source": [
    "# delete_duplicates_and_save(\"SteamAppsList.csv\",[\"appid\", \"name\"], [\"appid\", \"name\"])"
   ]
  },
  {
   "cell_type": "code",
   "execution_count": 4,
   "id": "bea80b34",
   "metadata": {},
   "outputs": [
    {
     "name": "stdout",
     "output_type": "stream",
     "text": [
      "<class 'pandas.core.frame.DataFrame'>\n",
      "RangeIndex: 92865 entries, 0 to 92864\n",
      "Data columns (total 3 columns):\n",
      " #   Column             Non-Null Count  Dtype \n",
      "---  ------             --------------  ----- \n",
      " 0   appid              92865 non-null  int64 \n",
      " 1   name               92865 non-null  object\n",
      " 2   date_playerscount  92865 non-null  object\n",
      "dtypes: int64(1), object(2)\n",
      "memory usage: 2.1+ MB\n",
      "<class 'pandas.core.frame.DataFrame'>\n",
      "RangeIndex: 92865 entries, 0 to 92864\n",
      "Data columns (total 3 columns):\n",
      " #   Column             Non-Null Count  Dtype \n",
      "---  ------             --------------  ----- \n",
      " 0   appid              92865 non-null  int64 \n",
      " 1   name               92865 non-null  object\n",
      " 2   date_playerscount  92865 non-null  object\n",
      "dtypes: int64(1), object(2)\n",
      "memory usage: 2.1+ MB\n",
      "<class 'pandas.core.frame.DataFrame'>\n",
      "RangeIndex: 92865 entries, 0 to 92864\n",
      "Data columns (total 3 columns):\n",
      " #   Column             Non-Null Count  Dtype \n",
      "---  ------             --------------  ----- \n",
      " 0   appid              92865 non-null  int64 \n",
      " 1   name               92865 non-null  object\n",
      " 2   date_playerscount  92865 non-null  object\n",
      "dtypes: int64(1), object(2)\n",
      "memory usage: 2.1+ MB\n"
     ]
    },
    {
     "data": {
      "text/plain": [
       "appid                92865\n",
       "name                 92865\n",
       "date_playerscount    92865\n",
       "dtype: int64"
      ]
     },
     "execution_count": 4,
     "metadata": {},
     "output_type": "execute_result"
    }
   ],
   "source": [
    "df = pd.read_csv(\"SteamPlayersCountHistory.csv\")\n",
    "df.info()\n",
    "df = df.drop_duplicates(subset=[\"name\", \"appid\"])\n",
    "df.info()\n",
    "df = df.dropna(subset=[\"date_playerscount\",\"name\"])\n",
    "df.info()\n",
    "df.count()\n",
    "# df.to_csv(\"SteamPlayersCountHistory.csv\", index=False)"
   ]
  },
  {
   "cell_type": "code",
   "execution_count": 5,
   "id": "4e88617e",
   "metadata": {},
   "outputs": [],
   "source": [
    "# delete_duplicates_and_save(\"SteamPlayersCountHistory.csv\", [\"appid\", \"name\"], [\"appid\", \"name\", \"date_playerscount\"])"
   ]
  },
  {
   "cell_type": "code",
   "execution_count": 11,
   "id": "c4335cff",
   "metadata": {},
   "outputs": [],
   "source": [
    "df = pd.read_csv(\"SteamPlayersCountHistory.csv\")\n",
    "\n",
    "games_that_dont_have_players = []\n",
    "\n",
    "now = 1749234827 * 1000\n",
    "one_day_ago = now - 86400000\n",
    "\n",
    "for data in df.iterrows():\n",
    "    split_to_last = data[1][\"date_playerscount\"].split(\", \")[-1]\n",
    "    current_data_split = split_to_last.split(\" \")\n",
    "    timestamp_ms = int(current_data_split[0])\n",
    "    if not (one_day_ago <= timestamp_ms <= now):\n",
    "        games_that_dont_have_players.append(data[1][\"appid\"])\n",
    "        continue\n",
    "\n",
    "    all_players = []\n",
    "    for current_data in data[1][\"date_playerscount\"].split(\", \"):\n",
    "        current_data_split = current_data.split(\" \")\n",
    "        players_count = int(current_data_split[1])\n",
    "        all_players.append(players_count)\n",
    "     \n",
    "    \n",
    "    if max(all_players) <= 3:\n",
    "        games_that_dont_have_players.append(data[1][\"appid\"])\n",
    "\n"
   ]
  },
  {
   "cell_type": "code",
   "execution_count": 12,
   "id": "d791046f",
   "metadata": {},
   "outputs": [
    {
     "name": "stdout",
     "output_type": "stream",
     "text": [
      "<class 'pandas.core.frame.DataFrame'>\n",
      "Index: 9691 entries, 5 to 92857\n",
      "Data columns (total 3 columns):\n",
      " #   Column             Non-Null Count  Dtype \n",
      "---  ------             --------------  ----- \n",
      " 0   appid              9691 non-null   int64 \n",
      " 1   name               9691 non-null   object\n",
      " 2   date_playerscount  9691 non-null   object\n",
      "dtypes: int64(1), object(2)\n",
      "memory usage: 302.8+ KB\n"
     ]
    }
   ],
   "source": [
    "df = df[~df[\"appid\"].isin(games_that_dont_have_players)]\n",
    "df.info()\n",
    "df.to_csv(\"Clean_SteamHistory_PCout.csv\", index=False)"
   ]
  },
  {
   "cell_type": "code",
   "execution_count": null,
   "id": "c83c2a8f",
   "metadata": {},
   "outputs": [],
   "source": []
  }
 ],
 "metadata": {
  "kernelspec": {
   "display_name": "base",
   "language": "python",
   "name": "python3"
  },
  "language_info": {
   "codemirror_mode": {
    "name": "ipython",
    "version": 3
   },
   "file_extension": ".py",
   "mimetype": "text/x-python",
   "name": "python",
   "nbconvert_exporter": "python",
   "pygments_lexer": "ipython3",
   "version": "3.12.7"
  }
 },
 "nbformat": 4,
 "nbformat_minor": 5
}
