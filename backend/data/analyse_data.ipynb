{
 "cells": [
  {
   "cell_type": "code",
   "execution_count": 1,
   "id": "b0854ecf",
   "metadata": {},
   "outputs": [],
   "source": [
    "import pandas as pd\n"
   ]
  },
  {
   "cell_type": "code",
   "execution_count": 2,
   "id": "268ee8fc",
   "metadata": {},
   "outputs": [],
   "source": [
    "def delete_duplicates_and_save(input_file, inputs_duplicates, inputs_na):\n",
    "    df = pd.read_csv(input_file)\n",
    "    df_unique = df.drop_duplicates(subset=inputs_duplicates)\n",
    "    df_unique = df_unique.dropna(subset=inputs_na)\n",
    "    df_unique.to_csv(input_file, index=False)"
   ]
  },
  {
   "cell_type": "code",
   "execution_count": 3,
   "id": "5ce6d026",
   "metadata": {},
   "outputs": [],
   "source": [
    "# delete_duplicates_and_save(\"SteamAppsList.csv\",[\"appid\", \"name\"], [\"appid\", \"name\"])"
   ]
  },
  {
   "cell_type": "code",
   "execution_count": 4,
   "id": "bd217783",
   "metadata": {},
   "outputs": [],
   "source": [
    "# delete_duplicates_and_save(\"SteamGamesMetadata.csv\",[\"appid\", \"name\"], [\"appid\", \"name\"])"
   ]
  },
  {
   "cell_type": "code",
   "execution_count": 5,
   "id": "a15439fa",
   "metadata": {},
   "outputs": [],
   "source": [
    "# delete_duplicates_and_save(\"SteamPlayersCountHistory.csv\", [\"appid\", \"name\"], [\"appid\", \"name\", \"date_playerscount\"])"
   ]
  },
  {
   "cell_type": "code",
   "execution_count": 6,
   "id": "bea80b34",
   "metadata": {},
   "outputs": [
    {
     "name": "stdout",
     "output_type": "stream",
     "text": [
      "<class 'pandas.core.frame.DataFrame'>\n",
      "RangeIndex: 10996 entries, 0 to 10995\n",
      "Data columns (total 3 columns):\n",
      " #   Column             Non-Null Count  Dtype \n",
      "---  ------             --------------  ----- \n",
      " 0   appid              10996 non-null  int64 \n",
      " 1   name               10996 non-null  object\n",
      " 2   date_playerscount  10996 non-null  object\n",
      "dtypes: int64(1), object(2)\n",
      "memory usage: 257.8+ KB\n",
      "<class 'pandas.core.frame.DataFrame'>\n",
      "RangeIndex: 10996 entries, 0 to 10995\n",
      "Data columns (total 3 columns):\n",
      " #   Column             Non-Null Count  Dtype \n",
      "---  ------             --------------  ----- \n",
      " 0   appid              10996 non-null  int64 \n",
      " 1   name               10996 non-null  object\n",
      " 2   date_playerscount  10996 non-null  object\n",
      "dtypes: int64(1), object(2)\n",
      "memory usage: 257.8+ KB\n",
      "<class 'pandas.core.frame.DataFrame'>\n",
      "RangeIndex: 10996 entries, 0 to 10995\n",
      "Data columns (total 3 columns):\n",
      " #   Column             Non-Null Count  Dtype \n",
      "---  ------             --------------  ----- \n",
      " 0   appid              10996 non-null  int64 \n",
      " 1   name               10996 non-null  object\n",
      " 2   date_playerscount  10996 non-null  object\n",
      "dtypes: int64(1), object(2)\n",
      "memory usage: 257.8+ KB\n"
     ]
    },
    {
     "data": {
      "text/plain": [
       "appid                10996\n",
       "name                 10996\n",
       "date_playerscount    10996\n",
       "dtype: int64"
      ]
     },
     "execution_count": 6,
     "metadata": {},
     "output_type": "execute_result"
    }
   ],
   "source": [
    "df = pd.read_csv(\"SteamPlayersCountHistory.csv\")\n",
    "df.info()\n",
    "df = df.drop_duplicates(subset=[\"name\", \"appid\"])\n",
    "df.info()\n",
    "df = df.dropna(subset=[\"date_playerscount\",\"name\"])\n",
    "df.info()\n",
    "df.count()\n",
    "# df.to_csv(\"SteamPlayersCountHistory.csv\", index=False)"
   ]
  },
  {
   "cell_type": "code",
   "execution_count": 7,
   "id": "c4335cff",
   "metadata": {},
   "outputs": [],
   "source": [
    "import time\n",
    "df = pd.read_csv(\"SteamPlayersCountHistory.csv\")\n",
    "games_that_dont_have_players = []\n",
    "currnet_time = int(time.time() * 1000)\n",
    "one_day_ago = currnet_time - 86400000\n",
    "one_week_ago = currnet_time - 604800000\n",
    "\n",
    "for data in df.iterrows():\n",
    "    split_to_last = data[1][\"date_playerscount\"].split(\", \")[-1]\n",
    "    current_data_split = split_to_last.split(\" \")\n",
    "    timestamp_ms = int(current_data_split[0])\n",
    "    if not (one_week_ago <= timestamp_ms <= currnet_time):\n",
    "        games_that_dont_have_players.append(data[1][\"appid\"])\n",
    "        continue\n",
    "\n",
    "    all_players = []\n",
    "    for current_data in data[1][\"date_playerscount\"].split(\", \"):\n",
    "        current_data_split = current_data.split(\" \")\n",
    "        players_count = int(current_data_split[1])\n",
    "        all_players.append(players_count)\n",
    "\n",
    "    if max(all_players) <= 3:\n",
    "        games_that_dont_have_players.append(data[1][\"appid\"])\n",
    "    if  int(split_to_last.split(\" \")[1]) == 0:\n",
    "        games_that_dont_have_players.append(data[1][\"appid\"])\n"
   ]
  },
  {
   "cell_type": "code",
   "execution_count": 8,
   "id": "d791046f",
   "metadata": {},
   "outputs": [
    {
     "name": "stdout",
     "output_type": "stream",
     "text": [
      "<class 'pandas.core.frame.DataFrame'>\n",
      "Index: 9562 entries, 0 to 10995\n",
      "Data columns (total 3 columns):\n",
      " #   Column             Non-Null Count  Dtype \n",
      "---  ------             --------------  ----- \n",
      " 0   appid              9562 non-null   int64 \n",
      " 1   name               9562 non-null   object\n",
      " 2   date_playerscount  9562 non-null   object\n",
      "dtypes: int64(1), object(2)\n",
      "memory usage: 298.8+ KB\n"
     ]
    }
   ],
   "source": [
    "df = df[~df[\"appid\"].isin(games_that_dont_have_players)]\n",
    "df.info()\n",
    "# df.to_csv(\"Clean_SteamHistory_PCout.csv\", index=False)"
   ]
  },
  {
   "cell_type": "code",
   "execution_count": 16,
   "id": "c83c2a8f",
   "metadata": {},
   "outputs": [
    {
     "name": "stdout",
     "output_type": "stream",
     "text": [
      "<class 'pandas.core.frame.DataFrame'>\n",
      "RangeIndex: 9316 entries, 0 to 9315\n",
      "Data columns (total 14 columns):\n",
      " #   Column             Non-Null Count  Dtype \n",
      "---  ------             --------------  ----- \n",
      " 0   appid              9316 non-null   int64 \n",
      " 1   name               9316 non-null   object\n",
      " 2   header_image       9316 non-null   object\n",
      " 3   short_description  9194 non-null   object\n",
      " 4   developers         9262 non-null   object\n",
      " 5   publishers         9230 non-null   object\n",
      " 6   release_date       9288 non-null   object\n",
      " 7   platforms          9316 non-null   object\n",
      " 8   price              7142 non-null   object\n",
      " 9   categories         9158 non-null   object\n",
      " 10  genres             9068 non-null   object\n",
      " 11  website            6303 non-null   object\n",
      " 12  screenshots        9135 non-null   object\n",
      " 13  background         9316 non-null   object\n",
      "dtypes: int64(1), object(13)\n",
      "memory usage: 1019.1+ KB\n"
     ]
    }
   ],
   "source": [
    "df = pd.read_csv(\"SteamGamesMetadata.csv\")\n",
    "df2 = pd.read_csv(\"Clean_SteamHistory_PCout.csv\")\n",
    "df = df[df[\"appid\"].isin(df2[\"appid\"])]\n",
    "df.info()\n",
    "# df.to_csv(\"SteamGamesMetadata.csv\", index=False)"
   ]
  },
  {
   "cell_type": "code",
   "execution_count": 17,
   "id": "51650ceb",
   "metadata": {},
   "outputs": [
    {
     "name": "stdout",
     "output_type": "stream",
     "text": [
      "<class 'pandas.core.frame.DataFrame'>\n",
      "Index: 9316 entries, 0 to 9561\n",
      "Data columns (total 3 columns):\n",
      " #   Column             Non-Null Count  Dtype \n",
      "---  ------             --------------  ----- \n",
      " 0   appid              9316 non-null   int64 \n",
      " 1   name               9316 non-null   object\n",
      " 2   date_playerscount  9316 non-null   object\n",
      "dtypes: int64(1), object(2)\n",
      "memory usage: 291.1+ KB\n"
     ]
    }
   ],
   "source": [
    "bad_apis_txt = \"bad_fetching_appids.txt\"\n",
    "bad_apis = []\n",
    "if bad_apis_txt:\n",
    "    with open(bad_apis_txt, \"r\") as f:\n",
    "        bad_apis = [line.strip() for line in f.readlines()]\n",
    "\n",
    "df = pd.read_csv(\"SteamGamesMetadata.csv\")\n",
    "df2 = pd.read_csv(\"Clean_SteamHistory_PCout.csv\")\n",
    "\n",
    "df2 = df2[df2[\"appid\"].isin(df[\"appid\"])]\n",
    "df2 = df2[~df2[\"appid\"].isin(bad_apis)]\n",
    "\n",
    "df2.info()\n",
    "df2.to_csv(\"Clean_SteamHistory_PCout.csv\", index=False)"
   ]
  }
 ],
 "metadata": {
  "kernelspec": {
   "display_name": "base",
   "language": "python",
   "name": "python3"
  },
  "language_info": {
   "codemirror_mode": {
    "name": "ipython",
    "version": 3
   },
   "file_extension": ".py",
   "mimetype": "text/x-python",
   "name": "python",
   "nbconvert_exporter": "python",
   "pygments_lexer": "ipython3",
   "version": "3.12.7"
  }
 },
 "nbformat": 4,
 "nbformat_minor": 5
}
