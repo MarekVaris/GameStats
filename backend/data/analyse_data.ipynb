{
 "cells": [
  {
   "cell_type": "code",
   "execution_count": 1,
   "id": "b0854ecf",
   "metadata": {},
   "outputs": [],
   "source": [
    "import pandas as pd\n"
   ]
  },
  {
   "cell_type": "code",
   "execution_count": 2,
   "id": "268ee8fc",
   "metadata": {},
   "outputs": [],
   "source": [
    "def delete_duplicates_and_save(input_file, inputs_duplicates, inputs_na):\n",
    "    df = pd.read_csv(input_file)\n",
    "    df_unique = df.drop_duplicates(subset=inputs_duplicates)\n",
    "    df_unique = df_unique.dropna(subset=inputs_na)\n",
    "    df_unique.to_csv(input_file, index=False)"
   ]
  },
  {
   "cell_type": "code",
   "execution_count": 3,
   "id": "5ce6d026",
   "metadata": {},
   "outputs": [],
   "source": [
    "# delete_duplicates_and_save(\"SteamAppsList.csv\",[\"appid\", \"name\"], [\"appid\", \"name\"])"
   ]
  },
  {
   "cell_type": "code",
   "execution_count": 4,
   "id": "bd217783",
   "metadata": {},
   "outputs": [],
   "source": [
    "# delete_duplicates_and_save(\"SteamGamesMetadata.csv\",[\"appid\", \"name\"], [\"appid\", \"name\"])"
   ]
  },
  {
   "cell_type": "code",
   "execution_count": 5,
   "id": "a15439fa",
   "metadata": {},
   "outputs": [],
   "source": [
    "# delete_duplicates_and_save(\"Clean_SteamHistory_PCout.csv\", [\"appid\", \"name\"], [\"appid\", \"name\", \"date_playerscount\"])"
   ]
  },
  {
   "cell_type": "code",
   "execution_count": 28,
   "id": "bea80b34",
   "metadata": {},
   "outputs": [
    {
     "name": "stdout",
     "output_type": "stream",
     "text": [
      "<class 'pandas.core.frame.DataFrame'>\n",
      "RangeIndex: 7543 entries, 0 to 7542\n",
      "Data columns (total 14 columns):\n",
      " #   Column             Non-Null Count  Dtype \n",
      "---  ------             --------------  ----- \n",
      " 0   appid              7543 non-null   int64 \n",
      " 1   name               7543 non-null   object\n",
      " 2   header_image       7543 non-null   object\n",
      " 3   short_description  7464 non-null   object\n",
      " 4   developers         7512 non-null   object\n",
      " 5   publishers         7492 non-null   object\n",
      " 6   release_date       7522 non-null   object\n",
      " 7   platforms          7543 non-null   object\n",
      " 8   price              5832 non-null   object\n",
      " 9   categories         7436 non-null   object\n",
      " 10  genres             7373 non-null   object\n",
      " 11  website            5269 non-null   object\n",
      " 12  screenshots        7414 non-null   object\n",
      " 13  background         7543 non-null   object\n",
      "dtypes: int64(1), object(13)\n",
      "memory usage: 825.1+ KB\n",
      "<class 'pandas.core.frame.DataFrame'>\n",
      "RangeIndex: 7543 entries, 0 to 7542\n",
      "Data columns (total 14 columns):\n",
      " #   Column             Non-Null Count  Dtype \n",
      "---  ------             --------------  ----- \n",
      " 0   appid              7543 non-null   int64 \n",
      " 1   name               7543 non-null   object\n",
      " 2   header_image       7543 non-null   object\n",
      " 3   short_description  7464 non-null   object\n",
      " 4   developers         7512 non-null   object\n",
      " 5   publishers         7492 non-null   object\n",
      " 6   release_date       7522 non-null   object\n",
      " 7   platforms          7543 non-null   object\n",
      " 8   price              5832 non-null   object\n",
      " 9   categories         7436 non-null   object\n",
      " 10  genres             7373 non-null   object\n",
      " 11  website            5269 non-null   object\n",
      " 12  screenshots        7414 non-null   object\n",
      " 13  background         7543 non-null   object\n",
      "dtypes: int64(1), object(13)\n",
      "memory usage: 825.1+ KB\n"
     ]
    },
    {
     "ename": "KeyError",
     "evalue": "['date_playerscount']",
     "output_type": "error",
     "traceback": [
      "\u001b[1;31m---------------------------------------------------------------------------\u001b[0m",
      "\u001b[1;31mKeyError\u001b[0m                                  Traceback (most recent call last)",
      "\u001b[1;32m~\\AppData\\Local\\Temp\\ipykernel_2916\\2996836914.py\u001b[0m in \u001b[0;36m?\u001b[1;34m()\u001b[0m\n\u001b[0;32m      1\u001b[0m \u001b[0mdf\u001b[0m \u001b[1;33m=\u001b[0m \u001b[0mpd\u001b[0m\u001b[1;33m.\u001b[0m\u001b[0mread_csv\u001b[0m\u001b[1;33m(\u001b[0m\u001b[1;34m\"Clean_SteamHistory_PCout.csv\"\u001b[0m\u001b[1;33m)\u001b[0m\u001b[1;33m\u001b[0m\u001b[1;33m\u001b[0m\u001b[0m\n\u001b[0;32m      2\u001b[0m \u001b[0mdf\u001b[0m\u001b[1;33m.\u001b[0m\u001b[0minfo\u001b[0m\u001b[1;33m(\u001b[0m\u001b[1;33m)\u001b[0m\u001b[1;33m\u001b[0m\u001b[1;33m\u001b[0m\u001b[0m\n\u001b[0;32m      3\u001b[0m \u001b[0mdf\u001b[0m \u001b[1;33m=\u001b[0m \u001b[0mdf\u001b[0m\u001b[1;33m.\u001b[0m\u001b[0mdrop_duplicates\u001b[0m\u001b[1;33m(\u001b[0m\u001b[0msubset\u001b[0m\u001b[1;33m=\u001b[0m\u001b[1;33m[\u001b[0m\u001b[1;34m\"name\"\u001b[0m\u001b[1;33m,\u001b[0m \u001b[1;34m\"appid\"\u001b[0m\u001b[1;33m]\u001b[0m\u001b[1;33m)\u001b[0m\u001b[1;33m\u001b[0m\u001b[1;33m\u001b[0m\u001b[0m\n\u001b[0;32m      4\u001b[0m \u001b[0mdf\u001b[0m\u001b[1;33m.\u001b[0m\u001b[0minfo\u001b[0m\u001b[1;33m(\u001b[0m\u001b[1;33m)\u001b[0m\u001b[1;33m\u001b[0m\u001b[1;33m\u001b[0m\u001b[0m\n\u001b[1;32m----> 5\u001b[1;33m \u001b[0mdf\u001b[0m \u001b[1;33m=\u001b[0m \u001b[0mdf\u001b[0m\u001b[1;33m.\u001b[0m\u001b[0mdropna\u001b[0m\u001b[1;33m(\u001b[0m\u001b[0msubset\u001b[0m\u001b[1;33m=\u001b[0m\u001b[1;33m[\u001b[0m\u001b[1;34m\"date_playerscount\"\u001b[0m\u001b[1;33m,\u001b[0m\u001b[1;34m\"name\"\u001b[0m\u001b[1;33m]\u001b[0m\u001b[1;33m)\u001b[0m\u001b[1;33m\u001b[0m\u001b[1;33m\u001b[0m\u001b[0m\n\u001b[0m\u001b[0;32m      6\u001b[0m \u001b[0mdf\u001b[0m\u001b[1;33m.\u001b[0m\u001b[0minfo\u001b[0m\u001b[1;33m(\u001b[0m\u001b[1;33m)\u001b[0m\u001b[1;33m\u001b[0m\u001b[1;33m\u001b[0m\u001b[0m\n\u001b[0;32m      7\u001b[0m \u001b[0mdf\u001b[0m\u001b[1;33m.\u001b[0m\u001b[0mcount\u001b[0m\u001b[1;33m(\u001b[0m\u001b[1;33m)\u001b[0m\u001b[1;33m\u001b[0m\u001b[1;33m\u001b[0m\u001b[0m\n\u001b[0;32m      8\u001b[0m \u001b[1;31m# df.to_csv(\"Clean_SteamHistory_PCout.csv\", index=False)\u001b[0m\u001b[1;33m\u001b[0m\u001b[1;33m\u001b[0m\u001b[0m\n",
      "\u001b[1;32mc:\\Users\\marek\\anaconda3\\Lib\\site-packages\\pandas\\core\\frame.py\u001b[0m in \u001b[0;36m?\u001b[1;34m(self, axis, how, thresh, subset, inplace, ignore_index)\u001b[0m\n\u001b[0;32m   6666\u001b[0m             \u001b[0max\u001b[0m \u001b[1;33m=\u001b[0m \u001b[0mself\u001b[0m\u001b[1;33m.\u001b[0m\u001b[0m_get_axis\u001b[0m\u001b[1;33m(\u001b[0m\u001b[0magg_axis\u001b[0m\u001b[1;33m)\u001b[0m\u001b[1;33m\u001b[0m\u001b[1;33m\u001b[0m\u001b[0m\n\u001b[0;32m   6667\u001b[0m             \u001b[0mindices\u001b[0m \u001b[1;33m=\u001b[0m \u001b[0max\u001b[0m\u001b[1;33m.\u001b[0m\u001b[0mget_indexer_for\u001b[0m\u001b[1;33m(\u001b[0m\u001b[0msubset\u001b[0m\u001b[1;33m)\u001b[0m\u001b[1;33m\u001b[0m\u001b[1;33m\u001b[0m\u001b[0m\n\u001b[0;32m   6668\u001b[0m             \u001b[0mcheck\u001b[0m \u001b[1;33m=\u001b[0m \u001b[0mindices\u001b[0m \u001b[1;33m==\u001b[0m \u001b[1;33m-\u001b[0m\u001b[1;36m1\u001b[0m\u001b[1;33m\u001b[0m\u001b[1;33m\u001b[0m\u001b[0m\n\u001b[0;32m   6669\u001b[0m             \u001b[1;32mif\u001b[0m \u001b[0mcheck\u001b[0m\u001b[1;33m.\u001b[0m\u001b[0many\u001b[0m\u001b[1;33m(\u001b[0m\u001b[1;33m)\u001b[0m\u001b[1;33m:\u001b[0m\u001b[1;33m\u001b[0m\u001b[1;33m\u001b[0m\u001b[0m\n\u001b[1;32m-> 6670\u001b[1;33m                 \u001b[1;32mraise\u001b[0m \u001b[0mKeyError\u001b[0m\u001b[1;33m(\u001b[0m\u001b[0mnp\u001b[0m\u001b[1;33m.\u001b[0m\u001b[0marray\u001b[0m\u001b[1;33m(\u001b[0m\u001b[0msubset\u001b[0m\u001b[1;33m)\u001b[0m\u001b[1;33m[\u001b[0m\u001b[0mcheck\u001b[0m\u001b[1;33m]\u001b[0m\u001b[1;33m.\u001b[0m\u001b[0mtolist\u001b[0m\u001b[1;33m(\u001b[0m\u001b[1;33m)\u001b[0m\u001b[1;33m)\u001b[0m\u001b[1;33m\u001b[0m\u001b[1;33m\u001b[0m\u001b[0m\n\u001b[0m\u001b[0;32m   6671\u001b[0m             \u001b[0magg_obj\u001b[0m \u001b[1;33m=\u001b[0m \u001b[0mself\u001b[0m\u001b[1;33m.\u001b[0m\u001b[0mtake\u001b[0m\u001b[1;33m(\u001b[0m\u001b[0mindices\u001b[0m\u001b[1;33m,\u001b[0m \u001b[0maxis\u001b[0m\u001b[1;33m=\u001b[0m\u001b[0magg_axis\u001b[0m\u001b[1;33m)\u001b[0m\u001b[1;33m\u001b[0m\u001b[1;33m\u001b[0m\u001b[0m\n\u001b[0;32m   6672\u001b[0m \u001b[1;33m\u001b[0m\u001b[0m\n\u001b[0;32m   6673\u001b[0m         \u001b[1;32mif\u001b[0m \u001b[0mthresh\u001b[0m \u001b[1;32mis\u001b[0m \u001b[1;32mnot\u001b[0m \u001b[0mlib\u001b[0m\u001b[1;33m.\u001b[0m\u001b[0mno_default\u001b[0m\u001b[1;33m:\u001b[0m\u001b[1;33m\u001b[0m\u001b[1;33m\u001b[0m\u001b[0m\n",
      "\u001b[1;31mKeyError\u001b[0m: ['date_playerscount']"
     ]
    }
   ],
   "source": [
    "df = pd.read_csv(\"Clean_SteamHistory_PCout.csv\")\n",
    "df.info()\n",
    "df = df.drop_duplicates(subset=[\"name\", \"appid\"])\n",
    "df.info()\n",
    "df = df.dropna(subset=[\"date_playerscount\",\"name\"])\n",
    "df.info()\n",
    "df.count()\n",
    "# df.to_csv(\"Clean_SteamHistory_PCout.csv\", index=False)"
   ]
  },
  {
   "cell_type": "code",
   "execution_count": 22,
   "id": "c4335cff",
   "metadata": {},
   "outputs": [],
   "source": [
    "import time\n",
    "df = pd.read_csv(\"Clean_SteamHistory_PCout.csv\")\n",
    "games_that_dont_have_players = []\n",
    "currnet_time = int(time.time() * 1000)\n",
    "one_day_ago = currnet_time - 86400000\n",
    "one_week_ago = currnet_time - 604800000\n",
    "\n",
    "for data in df.iterrows():\n",
    "    split_to_last = data[1][\"date_playerscount\"].split(\", \")[-1]\n",
    "    current_data_split = split_to_last.split(\" \")\n",
    "    timestamp_ms = int(current_data_split[0])\n",
    "    if not (one_week_ago <= timestamp_ms <= currnet_time):\n",
    "        games_that_dont_have_players.append(data[1][\"appid\"])\n",
    "        continue\n",
    "\n",
    "    all_players = []\n",
    "    for current_data in data[1][\"date_playerscount\"].split(\", \"):\n",
    "        current_data_split = current_data.split(\" \")\n",
    "        players_count = int(current_data_split[1])\n",
    "        all_players.append(players_count)\n",
    "\n",
    "    if max(all_players) <= 3:\n",
    "        games_that_dont_have_players.append(data[1][\"appid\"])\n",
    "    if  int(split_to_last.split(\" \")[1]) <= 3:\n",
    "        games_that_dont_have_players.append(data[1][\"appid\"])\n"
   ]
  },
  {
   "cell_type": "code",
   "execution_count": null,
   "id": "d791046f",
   "metadata": {},
   "outputs": [
    {
     "name": "stdout",
     "output_type": "stream",
     "text": [
      "<class 'pandas.core.frame.DataFrame'>\n",
      "Index: 7543 entries, 0 to 8505\n",
      "Data columns (total 14 columns):\n",
      " #   Column             Non-Null Count  Dtype \n",
      "---  ------             --------------  ----- \n",
      " 0   appid              7543 non-null   int64 \n",
      " 1   name               7543 non-null   object\n",
      " 2   header_image       7543 non-null   object\n",
      " 3   short_description  7464 non-null   object\n",
      " 4   developers         7512 non-null   object\n",
      " 5   publishers         7492 non-null   object\n",
      " 6   release_date       7522 non-null   object\n",
      " 7   platforms          7543 non-null   object\n",
      " 8   price              5832 non-null   object\n",
      " 9   categories         7436 non-null   object\n",
      " 10  genres             7373 non-null   object\n",
      " 11  website            5269 non-null   object\n",
      " 12  screenshots        7414 non-null   object\n",
      " 13  background         7543 non-null   object\n",
      "dtypes: int64(1), object(13)\n",
      "memory usage: 883.9+ KB\n"
     ]
    }
   ],
   "source": [
    "df = df[~df[\"appid\"].isin(games_that_dont_have_players)]\n",
    "df.info()\n",
    "# df.to_csv(\"Clean_SteamHistory_PCout.csv\", index=False)"
   ]
  },
  {
   "cell_type": "code",
   "execution_count": null,
   "id": "c83c2a8f",
   "metadata": {},
   "outputs": [
    {
     "name": "stdout",
     "output_type": "stream",
     "text": [
      "<class 'pandas.core.frame.DataFrame'>\n",
      "Index: 7543 entries, 0 to 8505\n",
      "Data columns (total 14 columns):\n",
      " #   Column             Non-Null Count  Dtype \n",
      "---  ------             --------------  ----- \n",
      " 0   appid              7543 non-null   int64 \n",
      " 1   name               7543 non-null   object\n",
      " 2   header_image       7543 non-null   object\n",
      " 3   short_description  7464 non-null   object\n",
      " 4   developers         7512 non-null   object\n",
      " 5   publishers         7492 non-null   object\n",
      " 6   release_date       7522 non-null   object\n",
      " 7   platforms          7543 non-null   object\n",
      " 8   price              5832 non-null   object\n",
      " 9   categories         7436 non-null   object\n",
      " 10  genres             7373 non-null   object\n",
      " 11  website            5269 non-null   object\n",
      " 12  screenshots        7414 non-null   object\n",
      " 13  background         7543 non-null   object\n",
      "dtypes: int64(1), object(13)\n",
      "memory usage: 883.9+ KB\n"
     ]
    }
   ],
   "source": [
    "df = pd.read_csv(\"SteamGamesMetadata.csv\")\n",
    "df2 = pd.read_csv(\"Clean_SteamHistory_PCout.csv\")\n",
    "df = df[df[\"appid\"].isin(df2[\"appid\"])]\n",
    "df.info()\n",
    "# df.to_csv(\"SteamGamesMetadata.csv\", index=False)"
   ]
  },
  {
   "cell_type": "code",
   "execution_count": null,
   "id": "51650ceb",
   "metadata": {},
   "outputs": [
    {
     "name": "stdout",
     "output_type": "stream",
     "text": [
      "<class 'pandas.core.frame.DataFrame'>\n",
      "RangeIndex: 7543 entries, 0 to 7542\n",
      "Data columns (total 14 columns):\n",
      " #   Column             Non-Null Count  Dtype \n",
      "---  ------             --------------  ----- \n",
      " 0   appid              7543 non-null   int64 \n",
      " 1   name               7543 non-null   object\n",
      " 2   header_image       7543 non-null   object\n",
      " 3   short_description  7464 non-null   object\n",
      " 4   developers         7512 non-null   object\n",
      " 5   publishers         7492 non-null   object\n",
      " 6   release_date       7522 non-null   object\n",
      " 7   platforms          7543 non-null   object\n",
      " 8   price              5832 non-null   object\n",
      " 9   categories         7436 non-null   object\n",
      " 10  genres             7373 non-null   object\n",
      " 11  website            5269 non-null   object\n",
      " 12  screenshots        7414 non-null   object\n",
      " 13  background         7543 non-null   object\n",
      "dtypes: int64(1), object(13)\n",
      "memory usage: 825.1+ KB\n"
     ]
    }
   ],
   "source": [
    "bad_apis_txt = \"bad_fetching_appids.txt\"\n",
    "bad_apis = []\n",
    "if bad_apis_txt:\n",
    "    with open(bad_apis_txt, \"r\") as f:\n",
    "        bad_apis = [line.strip() for line in f.readlines()]\n",
    "\n",
    "df = pd.read_csv(\"SteamGamesMetadata.csv\")\n",
    "df2 = pd.read_csv(\"Clean_SteamHistory_PCout.csv\")\n",
    "\n",
    "df2 = df2[df2[\"appid\"].isin(df[\"appid\"])]\n",
    "df2 = df2[~df2[\"appid\"].isin(bad_apis)]\n",
    "\n",
    "df2.info()\n",
    "# df2.to_csv(\"Clean_SteamHistory_PCout.csv\", index=False)"
   ]
  }
 ],
 "metadata": {
  "kernelspec": {
   "display_name": "base",
   "language": "python",
   "name": "python3"
  },
  "language_info": {
   "codemirror_mode": {
    "name": "ipython",
    "version": 3
   },
   "file_extension": ".py",
   "mimetype": "text/x-python",
   "name": "python",
   "nbconvert_exporter": "python",
   "pygments_lexer": "ipython3",
   "version": "3.12.7"
  }
 },
 "nbformat": 4,
 "nbformat_minor": 5
}
